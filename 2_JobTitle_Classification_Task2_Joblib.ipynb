{
 "cells": [
  {
   "cell_type": "markdown",
   "id": "1c434572",
   "metadata": {},
   "source": [
    "\n",
    "<div class=\"alert alert-info\" style=\"background-color:#008492; color:white; padding:0px 10px; border-radius:2px;\"><h2 style='margin:10px 5px'> Problem Statement: Job Type Prediction </h2>\n",
    "</div>"
   ]
  },
  {
   "cell_type": "markdown",
   "id": "c7c995ae",
   "metadata": {},
   "source": [
    "<div class=\"alert alert-info\" style=\"background-color:#0000FF; color:white; padding:0px 10px; border-radius:2px;\"><h2 style='margin:10px 5px'>Lifecycle in A NLP  Projects </h2>\n",
    "</div>\n",
    "\n",
    "1. Data Analysis(EDA)/ Data Cleaning /Feature Engineering \n",
    "    - Tokenization, Lower case convertion, Digits Removal, unicodedata removal, lemmatization, Stop word removal, Single character word removal,  Rare word removal etc\n",
    "2. Convert Text to Numerical field Using  - TFIDF \n",
    "3. Model Building Using Random Forest\n",
    "4. Create the pipeline for TFIDF and RF\n",
    "5. Model Evaluation\n",
    "6. Genearate/save the joblib file to deploy in Heroku\n",
    "7. Create API Related FASTAPI Code\n",
    "7. Upload files to Github\n",
    "8. Deploy all codes and API in Heroku environment"
   ]
  },
  {
   "cell_type": "markdown",
   "id": "27a1999d",
   "metadata": {},
   "source": [
    "<div class=\"alert alert-info\" style=\"background-color:#7FFF00; color:white; padding:0px 10px; border-radius:2px;\"><h2 style='margin:10px 5px'> 1. Import the libraries </h2>\n",
    "</div>"
   ]
  },
  {
   "cell_type": "code",
   "execution_count": 1,
   "id": "221d3593",
   "metadata": {},
   "outputs": [],
   "source": [
    "import pandas as pd\n",
    "import numpy as np\n",
    "import spacy\n",
    "from spacy.lang.en.stop_words import STOP_WORDS\n",
    "import re\n",
    "import unicodedata\n",
    "\n",
    "from sklearn.model_selection import train_test_split\n",
    "from sklearn.ensemble import RandomForestClassifier\n",
    "from sklearn.pipeline import Pipeline\n",
    "\n",
    "\n",
    "from sklearn.metrics import (\n",
    "confusion_matrix, \n",
    "classification_report, \n",
    "accuracy_score,  \n",
    "precision_score, \n",
    "recall_score, \n",
    "f1_score\n",
    ")\n",
    "\n",
    "\n",
    "from joblib import dump\n"
   ]
  },
  {
   "cell_type": "code",
   "execution_count": 2,
   "id": "b58f7657",
   "metadata": {},
   "outputs": [],
   "source": [
    "# Read the data, Original data was in .xlsx form and it was showing UTF8 encoding issue, manually saved to .csv file\n",
    "#So taht issue got resolved\n",
    "\n",
    "train_df = pd.read_csv(r'x0pa_ds_interview_round_2_train.csv', encoding = 'utf-8') \n",
    "test_df = pd.read_csv(r'x0pa_ds_interview_round_2_test.csv', encoding = 'utf-8')\n"
   ]
  },
  {
   "cell_type": "code",
   "execution_count": 3,
   "id": "33f0beda",
   "metadata": {},
   "outputs": [
    {
     "data": {
      "text/html": [
       "<div>\n",
       "<style scoped>\n",
       "    .dataframe tbody tr th:only-of-type {\n",
       "        vertical-align: middle;\n",
       "    }\n",
       "\n",
       "    .dataframe tbody tr th {\n",
       "        vertical-align: top;\n",
       "    }\n",
       "\n",
       "    .dataframe thead th {\n",
       "        text-align: right;\n",
       "    }\n",
       "</style>\n",
       "<table border=\"1\" class=\"dataframe\">\n",
       "  <thead>\n",
       "    <tr style=\"text-align: right;\">\n",
       "      <th></th>\n",
       "      <th>id</th>\n",
       "      <th>Job Title</th>\n",
       "      <th>Type</th>\n",
       "    </tr>\n",
       "  </thead>\n",
       "  <tbody>\n",
       "    <tr>\n",
       "      <th>0</th>\n",
       "      <td>439491</td>\n",
       "      <td>E-Project Manager</td>\n",
       "      <td>Project Management</td>\n",
       "    </tr>\n",
       "    <tr>\n",
       "      <th>1</th>\n",
       "      <td>53426</td>\n",
       "      <td>Oracle PL/SQL Developer</td>\n",
       "      <td>Database Administration</td>\n",
       "    </tr>\n",
       "    <tr>\n",
       "      <th>2</th>\n",
       "      <td>532645</td>\n",
       "      <td>Senior Software Design Engineer (Smart &amp; Conne...</td>\n",
       "      <td>Design</td>\n",
       "    </tr>\n",
       "    <tr>\n",
       "      <th>3</th>\n",
       "      <td>542591</td>\n",
       "      <td>Customer Service Representative of Medical Dev...</td>\n",
       "      <td>Customer Support</td>\n",
       "    </tr>\n",
       "    <tr>\n",
       "      <th>4</th>\n",
       "      <td>514151</td>\n",
       "      <td>Clicksoftware Project Manager</td>\n",
       "      <td>Project Management</td>\n",
       "    </tr>\n",
       "  </tbody>\n",
       "</table>\n",
       "</div>"
      ],
      "text/plain": [
       "       id                                          Job Title  \\\n",
       "0  439491                                  E-Project Manager   \n",
       "1   53426                            Oracle PL/SQL Developer   \n",
       "2  532645  Senior Software Design Engineer (Smart & Conne...   \n",
       "3  542591  Customer Service Representative of Medical Dev...   \n",
       "4  514151                      Clicksoftware Project Manager   \n",
       "\n",
       "                      Type  \n",
       "0       Project Management  \n",
       "1  Database Administration  \n",
       "2                   Design  \n",
       "3         Customer Support  \n",
       "4       Project Management  "
      ]
     },
     "execution_count": 3,
     "metadata": {},
     "output_type": "execute_result"
    }
   ],
   "source": [
    "train_df.head()"
   ]
  },
  {
   "cell_type": "code",
   "execution_count": 4,
   "id": "3ed088bb",
   "metadata": {},
   "outputs": [
    {
     "data": {
      "text/html": [
       "<div>\n",
       "<style scoped>\n",
       "    .dataframe tbody tr th:only-of-type {\n",
       "        vertical-align: middle;\n",
       "    }\n",
       "\n",
       "    .dataframe tbody tr th {\n",
       "        vertical-align: top;\n",
       "    }\n",
       "\n",
       "    .dataframe thead th {\n",
       "        text-align: right;\n",
       "    }\n",
       "</style>\n",
       "<table border=\"1\" class=\"dataframe\">\n",
       "  <thead>\n",
       "    <tr style=\"text-align: right;\">\n",
       "      <th></th>\n",
       "      <th>id</th>\n",
       "      <th>Job Title</th>\n",
       "    </tr>\n",
       "  </thead>\n",
       "  <tbody>\n",
       "    <tr>\n",
       "      <th>0</th>\n",
       "      <td>123636</td>\n",
       "      <td>Interim IT Project Manager - Virtualization (6...</td>\n",
       "    </tr>\n",
       "    <tr>\n",
       "      <th>1</th>\n",
       "      <td>13474</td>\n",
       "      <td>Product Operations Software Engineer (DevOps /...</td>\n",
       "    </tr>\n",
       "    <tr>\n",
       "      <th>2</th>\n",
       "      <td>305454</td>\n",
       "      <td>IT User Experience Designer</td>\n",
       "    </tr>\n",
       "    <tr>\n",
       "      <th>3</th>\n",
       "      <td>360875</td>\n",
       "      <td>Digitador/a Facturas Masivas- SAP - Huechuraba...</td>\n",
       "    </tr>\n",
       "    <tr>\n",
       "      <th>4</th>\n",
       "      <td>274401</td>\n",
       "      <td>PhD Intern - Northeastern University Co-op Stu...</td>\n",
       "    </tr>\n",
       "  </tbody>\n",
       "</table>\n",
       "</div>"
      ],
      "text/plain": [
       "       id                                          Job Title\n",
       "0  123636  Interim IT Project Manager - Virtualization (6...\n",
       "1   13474  Product Operations Software Engineer (DevOps /...\n",
       "2  305454                        IT User Experience Designer\n",
       "3  360875  Digitador/a Facturas Masivas- SAP - Huechuraba...\n",
       "4  274401  PhD Intern - Northeastern University Co-op Stu..."
      ]
     },
     "execution_count": 4,
     "metadata": {},
     "output_type": "execute_result"
    }
   ],
   "source": [
    "test_df.head()"
   ]
  },
  {
   "cell_type": "code",
   "execution_count": 5,
   "id": "e673a193",
   "metadata": {},
   "outputs": [
    {
     "data": {
      "text/html": [
       "<div>\n",
       "<style scoped>\n",
       "    .dataframe tbody tr th:only-of-type {\n",
       "        vertical-align: middle;\n",
       "    }\n",
       "\n",
       "    .dataframe tbody tr th {\n",
       "        vertical-align: top;\n",
       "    }\n",
       "\n",
       "    .dataframe thead th {\n",
       "        text-align: right;\n",
       "    }\n",
       "</style>\n",
       "<table border=\"1\" class=\"dataframe\">\n",
       "  <thead>\n",
       "    <tr style=\"text-align: right;\">\n",
       "      <th></th>\n",
       "      <th>Job Title</th>\n",
       "    </tr>\n",
       "  </thead>\n",
       "  <tbody>\n",
       "    <tr>\n",
       "      <th>0</th>\n",
       "      <td>Interim IT Project Manager - Virtualization (6...</td>\n",
       "    </tr>\n",
       "    <tr>\n",
       "      <th>1</th>\n",
       "      <td>Product Operations Software Engineer (DevOps /...</td>\n",
       "    </tr>\n",
       "    <tr>\n",
       "      <th>2</th>\n",
       "      <td>IT User Experience Designer</td>\n",
       "    </tr>\n",
       "    <tr>\n",
       "      <th>3</th>\n",
       "      <td>Digitador/a Facturas Masivas- SAP - Huechuraba...</td>\n",
       "    </tr>\n",
       "    <tr>\n",
       "      <th>4</th>\n",
       "      <td>PhD Intern - Northeastern University Co-op Stu...</td>\n",
       "    </tr>\n",
       "  </tbody>\n",
       "</table>\n",
       "</div>"
      ],
      "text/plain": [
       "                                           Job Title\n",
       "0  Interim IT Project Manager - Virtualization (6...\n",
       "1  Product Operations Software Engineer (DevOps /...\n",
       "2                        IT User Experience Designer\n",
       "3  Digitador/a Facturas Masivas- SAP - Huechuraba...\n",
       "4  PhD Intern - Northeastern University Co-op Stu..."
      ]
     },
     "execution_count": 5,
     "metadata": {},
     "output_type": "execute_result"
    }
   ],
   "source": [
    "test_x = test_df[[\"Job Title\"]]\n",
    "test_x.head()"
   ]
  },
  {
   "cell_type": "code",
   "execution_count": 6,
   "id": "5034b160",
   "metadata": {},
   "outputs": [
    {
     "data": {
      "text/plain": [
       "Non-IT                          11130\n",
       "Backend Engineer                 5564\n",
       "Project Management               5209\n",
       "Product Management               4418\n",
       "Customer Support                 3945\n",
       "Data Science                     3928\n",
       "Design                           3903\n",
       "Full Stack Engineer              3491\n",
       "Technical Support                2302\n",
       "Front End Engineer               1471\n",
       "Data Analyst                     1300\n",
       "Mobile Application Developer     1234\n",
       "Database Administration           621\n",
       "Cloud architect                   597\n",
       "Information Security              527\n",
       "Network Administration            360\n",
       "Name: Type, dtype: int64"
      ]
     },
     "execution_count": 6,
     "metadata": {},
     "output_type": "execute_result"
    }
   ],
   "source": [
    "train_df['Type'].value_counts()"
   ]
  },
  {
   "cell_type": "markdown",
   "id": "6cbbfaa0",
   "metadata": {},
   "source": [
    "> Here we can see 16 different types of jobs are there. We finalized Random Forest model, so we are not using label encoder for target\n",
    "\n",
    "> Normaly **Tree Based models** not require lable encoding"
   ]
  },
  {
   "cell_type": "markdown",
   "id": "5950562d",
   "metadata": {},
   "source": [
    "<div class=\"alert alert-info\" style=\"background-color:#7FFF00; color:white; padding:0px 10px; border-radius:2px;\"><h2 style='margin:10px 5px'> 2. Split the data into X and Y </h2>\n",
    "</div>"
   ]
  },
  {
   "cell_type": "code",
   "execution_count": 7,
   "id": "f2bb1fd7",
   "metadata": {},
   "outputs": [
    {
     "data": {
      "text/html": [
       "<div>\n",
       "<style scoped>\n",
       "    .dataframe tbody tr th:only-of-type {\n",
       "        vertical-align: middle;\n",
       "    }\n",
       "\n",
       "    .dataframe tbody tr th {\n",
       "        vertical-align: top;\n",
       "    }\n",
       "\n",
       "    .dataframe thead th {\n",
       "        text-align: right;\n",
       "    }\n",
       "</style>\n",
       "<table border=\"1\" class=\"dataframe\">\n",
       "  <thead>\n",
       "    <tr style=\"text-align: right;\">\n",
       "      <th></th>\n",
       "      <th>Job Title</th>\n",
       "    </tr>\n",
       "  </thead>\n",
       "  <tbody>\n",
       "    <tr>\n",
       "      <th>0</th>\n",
       "      <td>E-Project Manager</td>\n",
       "    </tr>\n",
       "    <tr>\n",
       "      <th>1</th>\n",
       "      <td>Oracle PL/SQL Developer</td>\n",
       "    </tr>\n",
       "    <tr>\n",
       "      <th>2</th>\n",
       "      <td>Senior Software Design Engineer (Smart &amp; Conne...</td>\n",
       "    </tr>\n",
       "    <tr>\n",
       "      <th>3</th>\n",
       "      <td>Customer Service Representative of Medical Dev...</td>\n",
       "    </tr>\n",
       "    <tr>\n",
       "      <th>4</th>\n",
       "      <td>Clicksoftware Project Manager</td>\n",
       "    </tr>\n",
       "  </tbody>\n",
       "</table>\n",
       "</div>"
      ],
      "text/plain": [
       "                                           Job Title\n",
       "0                                  E-Project Manager\n",
       "1                            Oracle PL/SQL Developer\n",
       "2  Senior Software Design Engineer (Smart & Conne...\n",
       "3  Customer Service Representative of Medical Dev...\n",
       "4                      Clicksoftware Project Manager"
      ]
     },
     "execution_count": 7,
     "metadata": {},
     "output_type": "execute_result"
    }
   ],
   "source": [
    "X = train_df[['Job Title']]\n",
    "y = train_df[['Type']]\n",
    "\n",
    "X.head()"
   ]
  },
  {
   "cell_type": "code",
   "execution_count": 8,
   "id": "cc949048",
   "metadata": {},
   "outputs": [
    {
     "data": {
      "text/html": [
       "<div>\n",
       "<style scoped>\n",
       "    .dataframe tbody tr th:only-of-type {\n",
       "        vertical-align: middle;\n",
       "    }\n",
       "\n",
       "    .dataframe tbody tr th {\n",
       "        vertical-align: top;\n",
       "    }\n",
       "\n",
       "    .dataframe thead th {\n",
       "        text-align: right;\n",
       "    }\n",
       "</style>\n",
       "<table border=\"1\" class=\"dataframe\">\n",
       "  <thead>\n",
       "    <tr style=\"text-align: right;\">\n",
       "      <th></th>\n",
       "      <th>Type</th>\n",
       "    </tr>\n",
       "  </thead>\n",
       "  <tbody>\n",
       "    <tr>\n",
       "      <th>0</th>\n",
       "      <td>Project Management</td>\n",
       "    </tr>\n",
       "    <tr>\n",
       "      <th>1</th>\n",
       "      <td>Database Administration</td>\n",
       "    </tr>\n",
       "    <tr>\n",
       "      <th>2</th>\n",
       "      <td>Design</td>\n",
       "    </tr>\n",
       "    <tr>\n",
       "      <th>3</th>\n",
       "      <td>Customer Support</td>\n",
       "    </tr>\n",
       "    <tr>\n",
       "      <th>4</th>\n",
       "      <td>Project Management</td>\n",
       "    </tr>\n",
       "  </tbody>\n",
       "</table>\n",
       "</div>"
      ],
      "text/plain": [
       "                      Type\n",
       "0       Project Management\n",
       "1  Database Administration\n",
       "2                   Design\n",
       "3         Customer Support\n",
       "4       Project Management"
      ]
     },
     "execution_count": 8,
     "metadata": {},
     "output_type": "execute_result"
    }
   ],
   "source": [
    "y.head()"
   ]
  },
  {
   "cell_type": "markdown",
   "id": "76f113c2",
   "metadata": {},
   "source": [
    "<div class=\"alert alert-info\" style=\"background-color:#7FFF00; color:white; padding:0px 10px; border-radius:2px;\"><h2 style='margin:10px 5px'> 3. NLP Data Preprocessing Technique </h2>\n",
    "</div>\n",
    "\n",
    " - Tokenization\n",
    " - Lower case convertion \n",
    " - Digits Removal\n",
    " - Unicodedata removal \n",
    " - Lemmatization\n",
    " - Stop word removal\n",
    " - Single character word removal\n",
    " - Rare word removal etc"
   ]
  },
  {
   "cell_type": "code",
   "execution_count": 9,
   "id": "a8c997ee",
   "metadata": {},
   "outputs": [],
   "source": [
    "nlp = spacy.load('en_core_web_md')"
   ]
  },
  {
   "cell_type": "code",
   "execution_count": 10,
   "id": "9505ef86",
   "metadata": {},
   "outputs": [],
   "source": [
    "# This part done in app.py itself, so not included in pipeline\n",
    "\n",
    "# Lemmatization\n",
    "\n",
    "def make_to_base(x):\n",
    "    x_list = []\n",
    "    # TOKENIZATION\n",
    "    doc = nlp(x)\n",
    "    \n",
    "    for token in doc:\n",
    "        lemma = str(token.lemma_)\n",
    "        if lemma == '-PRON-' or lemma == 'be':   \n",
    "            lemma = token.text\n",
    "        x_list.append(lemma)\n",
    "    #print(\" \".join(x_list))\n",
    "    return(\" \".join(x_list))\n"
   ]
  },
  {
   "cell_type": "code",
   "execution_count": 11,
   "id": "b3121536",
   "metadata": {},
   "outputs": [
    {
     "name": "stderr",
     "output_type": "stream",
     "text": [
      "C:\\Users\\prabh\\Anaconda3\\lib\\site-packages\\ipykernel_launcher.py:5: SettingWithCopyWarning: \n",
      "A value is trying to be set on a copy of a slice from a DataFrame.\n",
      "Try using .loc[row_indexer,col_indexer] = value instead\n",
      "\n",
      "See the caveats in the documentation: https://pandas.pydata.org/pandas-docs/stable/user_guide/indexing.html#returning-a-view-versus-a-copy\n",
      "  \"\"\"\n",
      "C:\\Users\\prabh\\Anaconda3\\lib\\site-packages\\ipykernel_launcher.py:8: SettingWithCopyWarning: \n",
      "A value is trying to be set on a copy of a slice from a DataFrame.\n",
      "Try using .loc[row_indexer,col_indexer] = value instead\n",
      "\n",
      "See the caveats in the documentation: https://pandas.pydata.org/pandas-docs/stable/user_guide/indexing.html#returning-a-view-versus-a-copy\n",
      "  \n",
      "C:\\Users\\prabh\\Anaconda3\\lib\\site-packages\\ipykernel_launcher.py:11: SettingWithCopyWarning: \n",
      "A value is trying to be set on a copy of a slice from a DataFrame.\n",
      "Try using .loc[row_indexer,col_indexer] = value instead\n",
      "\n",
      "See the caveats in the documentation: https://pandas.pydata.org/pandas-docs/stable/user_guide/indexing.html#returning-a-view-versus-a-copy\n",
      "  # This is added back by InteractiveShellApp.init_path()\n",
      "C:\\Users\\prabh\\Anaconda3\\lib\\site-packages\\ipykernel_launcher.py:14: SettingWithCopyWarning: \n",
      "A value is trying to be set on a copy of a slice from a DataFrame.\n",
      "Try using .loc[row_indexer,col_indexer] = value instead\n",
      "\n",
      "See the caveats in the documentation: https://pandas.pydata.org/pandas-docs/stable/user_guide/indexing.html#returning-a-view-versus-a-copy\n",
      "  \n",
      "C:\\Users\\prabh\\Anaconda3\\lib\\site-packages\\ipykernel_launcher.py:17: SettingWithCopyWarning: \n",
      "A value is trying to be set on a copy of a slice from a DataFrame.\n",
      "Try using .loc[row_indexer,col_indexer] = value instead\n",
      "\n",
      "See the caveats in the documentation: https://pandas.pydata.org/pandas-docs/stable/user_guide/indexing.html#returning-a-view-versus-a-copy\n",
      "C:\\Users\\prabh\\Anaconda3\\lib\\site-packages\\ipykernel_launcher.py:20: SettingWithCopyWarning: \n",
      "A value is trying to be set on a copy of a slice from a DataFrame.\n",
      "Try using .loc[row_indexer,col_indexer] = value instead\n",
      "\n",
      "See the caveats in the documentation: https://pandas.pydata.org/pandas-docs/stable/user_guide/indexing.html#returning-a-view-versus-a-copy\n",
      "C:\\Users\\prabh\\Anaconda3\\lib\\site-packages\\ipykernel_launcher.py:28: SettingWithCopyWarning: \n",
      "A value is trying to be set on a copy of a slice from a DataFrame.\n",
      "Try using .loc[row_indexer,col_indexer] = value instead\n",
      "\n",
      "See the caveats in the documentation: https://pandas.pydata.org/pandas-docs/stable/user_guide/indexing.html#returning-a-view-versus-a-copy\n"
     ]
    }
   ],
   "source": [
    "# This part done in app.py itself so not included in pipeline\n",
    "\n",
    "def pre_process(X):\n",
    "    # Lower case convertion\n",
    "    X['Job Title'] = X['Job Title'].apply(lambda x: str(x).lower()) \n",
    "    \n",
    "    # Digits Removal\n",
    "    X['Job Title'] = X['Job Title'].apply(lambda x: re.sub('[^A-Z a-z # . ]+', '', x))\n",
    "    \n",
    "    # Stop word Removal\n",
    "    X['Job Title'] = X['Job Title'].apply(lambda x: \" \".join([t for t in x.split() if t not in STOP_WORDS]))\n",
    "   \n",
    "    # Unicodedata removal\n",
    "    X['Job Title'] = X['Job Title'].apply(lambda x: unicodedata.normalize('NFKD', x).encode('ascii', 'ignore').decode('utf-8', 'ignore'))\n",
    "    \n",
    "    # Lemmatization\n",
    "    X['Job Title'] = X['Job Title'].apply(lambda x: make_to_base(x))\n",
    "    \n",
    "    #Single Character  removal\n",
    "    X['Job Title']  = X['Job Title'] .apply(lambda x: \" \".join([t for t in x.split() if len(t) != 1]))\n",
    "   \n",
    "    # Rare word Removal\n",
    "    text = ' '.join(X['Job Title'])\n",
    "    text = text.split()\n",
    "    freq_comm = pd.Series(text).value_counts()\n",
    "    # rare_remov_list is the word occured only once in trainset\n",
    "    rare_remov_list = freq_comm[freq_comm==1]\n",
    "    X['Job Title'] = X['Job Title'].apply(lambda x: \" \".join([t for t in x.split() if t not in rare_remov_list]))\n",
    "    return X\n",
    "\n",
    "X_pre_proc = pre_process(X)\n"
   ]
  },
  {
   "cell_type": "code",
   "execution_count": 12,
   "id": "6f2e6c22",
   "metadata": {},
   "outputs": [
    {
     "data": {
      "text/html": [
       "<div>\n",
       "<style scoped>\n",
       "    .dataframe tbody tr th:only-of-type {\n",
       "        vertical-align: middle;\n",
       "    }\n",
       "\n",
       "    .dataframe tbody tr th {\n",
       "        vertical-align: top;\n",
       "    }\n",
       "\n",
       "    .dataframe thead th {\n",
       "        text-align: right;\n",
       "    }\n",
       "</style>\n",
       "<table border=\"1\" class=\"dataframe\">\n",
       "  <thead>\n",
       "    <tr style=\"text-align: right;\">\n",
       "      <th></th>\n",
       "      <th>Job Title</th>\n",
       "    </tr>\n",
       "  </thead>\n",
       "  <tbody>\n",
       "    <tr>\n",
       "      <th>0</th>\n",
       "      <td>eproject manager</td>\n",
       "    </tr>\n",
       "    <tr>\n",
       "      <th>1</th>\n",
       "      <td>oracle plsql developer</td>\n",
       "    </tr>\n",
       "    <tr>\n",
       "      <th>2</th>\n",
       "      <td>senior software design engineer smart connected</td>\n",
       "    </tr>\n",
       "    <tr>\n",
       "      <th>3</th>\n",
       "      <td>customer service representative medical device</td>\n",
       "    </tr>\n",
       "    <tr>\n",
       "      <th>4</th>\n",
       "      <td>project manager</td>\n",
       "    </tr>\n",
       "  </tbody>\n",
       "</table>\n",
       "</div>"
      ],
      "text/plain": [
       "                                         Job Title\n",
       "0                                 eproject manager\n",
       "1                           oracle plsql developer\n",
       "2  senior software design engineer smart connected\n",
       "3   customer service representative medical device\n",
       "4                                  project manager"
      ]
     },
     "execution_count": 12,
     "metadata": {},
     "output_type": "execute_result"
    }
   ],
   "source": [
    "#Data after  Preprocessing\n",
    "X.head()"
   ]
  },
  {
   "cell_type": "code",
   "execution_count": 13,
   "id": "9e013806",
   "metadata": {},
   "outputs": [
    {
     "data": {
      "text/html": [
       "<div>\n",
       "<style scoped>\n",
       "    .dataframe tbody tr th:only-of-type {\n",
       "        vertical-align: middle;\n",
       "    }\n",
       "\n",
       "    .dataframe tbody tr th {\n",
       "        vertical-align: top;\n",
       "    }\n",
       "\n",
       "    .dataframe thead th {\n",
       "        text-align: right;\n",
       "    }\n",
       "</style>\n",
       "<table border=\"1\" class=\"dataframe\">\n",
       "  <thead>\n",
       "    <tr style=\"text-align: right;\">\n",
       "      <th></th>\n",
       "      <th>Job Title</th>\n",
       "    </tr>\n",
       "  </thead>\n",
       "  <tbody>\n",
       "    <tr>\n",
       "      <th>0</th>\n",
       "      <td>E-Project Manager</td>\n",
       "    </tr>\n",
       "    <tr>\n",
       "      <th>1</th>\n",
       "      <td>Oracle PL/SQL Developer</td>\n",
       "    </tr>\n",
       "    <tr>\n",
       "      <th>2</th>\n",
       "      <td>Senior Software Design Engineer (Smart &amp; Conne...</td>\n",
       "    </tr>\n",
       "    <tr>\n",
       "      <th>3</th>\n",
       "      <td>Customer Service Representative of Medical Dev...</td>\n",
       "    </tr>\n",
       "    <tr>\n",
       "      <th>4</th>\n",
       "      <td>Clicksoftware Project Manager</td>\n",
       "    </tr>\n",
       "  </tbody>\n",
       "</table>\n",
       "</div>"
      ],
      "text/plain": [
       "                                           Job Title\n",
       "0                                  E-Project Manager\n",
       "1                            Oracle PL/SQL Developer\n",
       "2  Senior Software Design Engineer (Smart & Conne...\n",
       "3  Customer Service Representative of Medical Dev...\n",
       "4                      Clicksoftware Project Manager"
      ]
     },
     "execution_count": 13,
     "metadata": {},
     "output_type": "execute_result"
    }
   ],
   "source": [
    "#Data Before  Preprocessing\n",
    "train_df[['Job Title']].head()"
   ]
  },
  {
   "cell_type": "markdown",
   "id": "7dddfeaf",
   "metadata": {},
   "source": [
    "<div class=\"alert alert-info\" style=\"background-color:#7FFF00; color:white; padding:0px 10px; border-radius:2px;\"><h2 style='margin:10px 5px'> 4. Apply TFIFD </h2>\n",
    "</div>"
   ]
  },
  {
   "cell_type": "code",
   "execution_count": 14,
   "id": "6ef15449",
   "metadata": {},
   "outputs": [],
   "source": [
    "from sklearn.feature_extraction.text import TfidfVectorizer\n",
    "\n",
    "tfidf = TfidfVectorizer()\n",
    "x_tfidf = tfidf.fit_transform(X_pre_proc['Job Title'])  "
   ]
  },
  {
   "cell_type": "code",
   "execution_count": 15,
   "id": "7890f397",
   "metadata": {},
   "outputs": [
    {
     "data": {
      "text/plain": [
       "(50000, 7419)"
      ]
     },
     "execution_count": 15,
     "metadata": {},
     "output_type": "execute_result"
    }
   ],
   "source": [
    "#x_tfidf.head()\n",
    "x_tfidf.shape"
   ]
  },
  {
   "cell_type": "markdown",
   "id": "b961fa33",
   "metadata": {},
   "source": [
    "<div class=\"alert alert-info\" style=\"background-color:#7FFF00; color:white; padding:0px 10px; border-radius:2px;\"><h2 style='margin:10px 5px'> 5. Build Model </h2>\n",
    "</div>"
   ]
  },
  {
   "cell_type": "code",
   "execution_count": 16,
   "id": "b91e8a98",
   "metadata": {},
   "outputs": [
    {
     "name": "stderr",
     "output_type": "stream",
     "text": [
      "C:\\Users\\prabh\\Anaconda3\\lib\\site-packages\\ipykernel_launcher.py:8: DataConversionWarning: A column-vector y was passed when a 1d array was expected. Please change the shape of y to (n_samples,), for example using ravel().\n",
      "  \n"
     ]
    },
    {
     "data": {
      "text/plain": [
       "RandomForestClassifier(n_estimators=200, n_jobs=-1, random_state=42)"
      ]
     },
     "execution_count": 16,
     "metadata": {},
     "output_type": "execute_result"
    }
   ],
   "source": [
    "# train test split\n",
    "x_train_tfidf , x_test_tfidf, y_train_tfidf , y_test_tfidf = train_test_split(x_tfidf, y, test_size = 0.2, random_state=21)\n",
    "\n",
    "\n",
    "# Apply Random Forest \n",
    "rfc = RandomForestClassifier(random_state=42, n_jobs=-1, n_estimators=200)\n",
    "\n",
    "rfc.fit(x_train_tfidf, y_train_tfidf)\n"
   ]
  },
  {
   "cell_type": "code",
   "execution_count": 17,
   "id": "7279a62a",
   "metadata": {},
   "outputs": [
    {
     "data": {
      "text/plain": [
       "array(['Customer Support', 'Data Science', 'Data Analyst', ...,\n",
       "       'Data Science', 'Product Management', 'Data Science'], dtype=object)"
      ]
     },
     "execution_count": 17,
     "metadata": {},
     "output_type": "execute_result"
    }
   ],
   "source": [
    "y_pred = rfc.predict(x_test_tfidf)\n",
    "\n",
    "y_pred"
   ]
  },
  {
   "cell_type": "markdown",
   "id": "bc3ff86c",
   "metadata": {},
   "source": [
    "<div class=\"alert alert-info\" style=\"background-color:#7FFF00; color:white; padding:0px 10px; border-radius:2px;\"><h2 style='margin:10px 5px'> 6. Model Evaluation </h2>\n",
    "</div>\n",
    "\n",
    "### This is Classification problem so used different Classification related evaluation matrix\n",
    "\n",
    "- accuracy\n",
    "- miss_class_rate\n",
    "- precision\n",
    "- recall\n",
    "- f1"
   ]
  },
  {
   "cell_type": "code",
   "execution_count": 18,
   "id": "de2fe120",
   "metadata": {},
   "outputs": [
    {
     "name": "stdout",
     "output_type": "stream",
     "text": [
      "accuracy:  0.9425\n",
      "miss_class_rate:  0.0575\n",
      "precision:  0.9427\n",
      "recall:  0.9425\n",
      "f1:  0.9424\n"
     ]
    }
   ],
   "source": [
    "# Different evaluation matrix\n",
    "\n",
    "accuracy =  round(accuracy_score(y_test_tfidf, y_pred),4)\n",
    "miss_class_rate =  round(1 - accuracy_score(y_test_tfidf, y_pred),4)\n",
    "precision = round(precision_score(y_test_tfidf, y_pred, average='weighted'),4)\n",
    "recall = round(recall_score(y_test_tfidf, y_pred, average='weighted'),4)\n",
    "f1 = round(f1_score(y_test_tfidf, y_pred, average='weighted'),4)\n",
    "\n",
    "print(\"accuracy: \", accuracy )\n",
    "print(\"miss_class_rate: \", miss_class_rate )\n",
    "print(\"precision: \", precision )\n",
    "print(\"recall: \", recall )\n",
    "print(\"f1: \", f1 )"
   ]
  },
  {
   "cell_type": "markdown",
   "id": "10e41823",
   "metadata": {},
   "source": [
    "> Model having very good matrics"
   ]
  },
  {
   "cell_type": "markdown",
   "id": "ba358ee7",
   "metadata": {},
   "source": [
    "<div class=\"alert alert-info\" style=\"background-color:#7FFF00; color:white; padding:0px 10px; border-radius:2px;\"><h2 style='margin:10px 5px'> 7. Pipeline </h2>\n",
    "</div>\n",
    "\n",
    "- Here we are creating pipeline for preprocessed data , which does TF-IDF and Random forest modelling sequentially"
   ]
  },
  {
   "cell_type": "code",
   "execution_count": 19,
   "id": "9684c3dc",
   "metadata": {},
   "outputs": [],
   "source": [
    "# Create new pipeline\n",
    "pipeline = Pipeline(steps= [('tfidf', TfidfVectorizer()),\n",
    "                            ('rfc', RandomForestClassifier())])"
   ]
  },
  {
   "cell_type": "code",
   "execution_count": 20,
   "id": "3e215252",
   "metadata": {},
   "outputs": [
    {
     "name": "stderr",
     "output_type": "stream",
     "text": [
      "C:\\Users\\prabh\\Anaconda3\\lib\\site-packages\\sklearn\\pipeline.py:346: DataConversionWarning: A column-vector y was passed when a 1d array was expected. Please change the shape of y to (n_samples,), for example using ravel().\n",
      "  self._final_estimator.fit(Xt, y, **fit_params_last_step)\n"
     ]
    },
    {
     "data": {
      "text/plain": [
       "Pipeline(steps=[('tfidf', TfidfVectorizer()),\n",
       "                ('rfc', RandomForestClassifier())])"
      ]
     },
     "execution_count": 20,
     "metadata": {},
     "output_type": "execute_result"
    }
   ],
   "source": [
    "#Fit the pipeline with preprocessed data\n",
    "pipeline.fit(X_pre_proc['Job Title'], y)\n"
   ]
  },
  {
   "cell_type": "code",
   "execution_count": 21,
   "id": "3cc7ce91",
   "metadata": {},
   "outputs": [
    {
     "data": {
      "text/plain": [
       "array(['Project Management', 'Database Administration', 'Design', ...,\n",
       "       'Technical Support', 'Non-IT', 'Backend Engineer'], dtype=object)"
      ]
     },
     "execution_count": 21,
     "metadata": {},
     "output_type": "execute_result"
    }
   ],
   "source": [
    "pred =pipeline.predict(X_pre_proc['Job Title'])\n",
    "pred"
   ]
  },
  {
   "cell_type": "code",
   "execution_count": 22,
   "id": "1d7b0cb1",
   "metadata": {},
   "outputs": [
    {
     "data": {
      "text/plain": [
       "'Project Management'"
      ]
     },
     "execution_count": 22,
     "metadata": {},
     "output_type": "execute_result"
    }
   ],
   "source": [
    "pred[0]"
   ]
  },
  {
   "cell_type": "markdown",
   "id": "aac8d3b3",
   "metadata": {},
   "source": [
    "<div class=\"alert alert-info\" style=\"background-color:#7FFF00; color:white; padding:0px 10px; border-radius:2px;\"><h2 style='margin:10px 5px'> 8. Deployment - Joblib file creation </h2>\n",
    "</div>"
   ]
  },
  {
   "cell_type": "code",
   "execution_count": 31,
   "id": "27c34fe9",
   "metadata": {},
   "outputs": [
    {
     "data": {
      "text/plain": [
       "['text_classification.joblib.bz2']"
      ]
     },
     "execution_count": 31,
     "metadata": {},
     "output_type": "execute_result"
    }
   ],
   "source": [
    "# dump the pipeline model here to create .joblib\n",
    "\n",
    "# This for not zipped file\n",
    "#dump(pipeline, filename=\"text_classification.joblib\")\n",
    "\n",
    "# This for gz zipped file\n",
    "filename=\"text_classification.joblib\"\n",
    "#dump(pipeline, filename + '.gz', compress='gzip') # gzip\n",
    "\n",
    "dump(pipeline, filename + '.bz2', compress=('bz2', 3)) # bz2"
   ]
  },
  {
   "cell_type": "markdown",
   "id": "4618dae5",
   "metadata": {},
   "source": [
    "> this \"text_classification.joblib\" is save in same folder"
   ]
  },
  {
   "cell_type": "markdown",
   "id": "c6a4c2e0",
   "metadata": {},
   "source": [
    "<div class=\"alert alert-info\" style=\"background-color:#7FFF00; color:white; padding:0px 10px; border-radius:2px;\"><h2 style='margin:10px 5px'> 9. Extra Validation </h2>\n",
    "</div>"
   ]
  },
  {
   "cell_type": "code",
   "execution_count": 24,
   "id": "c8b2b6ed",
   "metadata": {},
   "outputs": [
    {
     "data": {
      "text/plain": [
       "{'job_title': 'Senior Software Design Engineer (Smart & Connected)'}"
      ]
     },
     "execution_count": 24,
     "metadata": {},
     "output_type": "execute_result"
    }
   ],
   "source": [
    "data = {'job_title': 'Senior Software Design Engineer (Smart & Connected)'}\n",
    "data1 = dict(data)\n",
    "data1"
   ]
  },
  {
   "cell_type": "code",
   "execution_count": 25,
   "id": "c146b3d2",
   "metadata": {},
   "outputs": [
    {
     "data": {
      "text/html": [
       "<div>\n",
       "<style scoped>\n",
       "    .dataframe tbody tr th:only-of-type {\n",
       "        vertical-align: middle;\n",
       "    }\n",
       "\n",
       "    .dataframe tbody tr th {\n",
       "        vertical-align: top;\n",
       "    }\n",
       "\n",
       "    .dataframe thead th {\n",
       "        text-align: right;\n",
       "    }\n",
       "</style>\n",
       "<table border=\"1\" class=\"dataframe\">\n",
       "  <thead>\n",
       "    <tr style=\"text-align: right;\">\n",
       "      <th></th>\n",
       "      <th>job_title</th>\n",
       "    </tr>\n",
       "  </thead>\n",
       "  <tbody>\n",
       "    <tr>\n",
       "      <th>0</th>\n",
       "      <td>Senior Software Design Engineer (Smart &amp; Conne...</td>\n",
       "    </tr>\n",
       "  </tbody>\n",
       "</table>\n",
       "</div>"
      ],
      "text/plain": [
       "                                           job_title\n",
       "0  Senior Software Design Engineer (Smart & Conne..."
      ]
     },
     "execution_count": 25,
     "metadata": {},
     "output_type": "execute_result"
    }
   ],
   "source": [
    "dt = pd.DataFrame(list(pd.Series(data1['job_title'])), columns = ['job_title'])\n",
    "dt"
   ]
  },
  {
   "cell_type": "code",
   "execution_count": 26,
   "id": "2830413c",
   "metadata": {},
   "outputs": [
    {
     "data": {
      "text/plain": [
       "'Design'"
      ]
     },
     "execution_count": 26,
     "metadata": {},
     "output_type": "execute_result"
    }
   ],
   "source": [
    "pipeline.predict(dt['job_title'])[0]"
   ]
  },
  {
   "cell_type": "markdown",
   "id": "726bde44",
   "metadata": {},
   "source": [
    "<div class=\"alert alert-info\" style=\"background-color:#7FFF00; color:white; padding:0px 10px; border-radius:2px;\"><h2 style='margin:10px 5px'> END </h2>\n",
    "</div>"
   ]
  },
  {
   "cell_type": "code",
   "execution_count": null,
   "id": "22f19fd6",
   "metadata": {},
   "outputs": [],
   "source": []
  }
 ],
 "metadata": {
  "kernelspec": {
   "display_name": "Python 3 (ipykernel)",
   "language": "python",
   "name": "python3"
  },
  "language_info": {
   "codemirror_mode": {
    "name": "ipython",
    "version": 3
   },
   "file_extension": ".py",
   "mimetype": "text/x-python",
   "name": "python",
   "nbconvert_exporter": "python",
   "pygments_lexer": "ipython3",
   "version": "3.7.1"
  }
 },
 "nbformat": 4,
 "nbformat_minor": 5
}
